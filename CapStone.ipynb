{
 "cells": [
  {
   "cell_type": "markdown",
   "metadata": {},
   "source": [
    "For Capstone Use"
   ]
  },
  {
   "cell_type": "code",
   "execution_count": 1,
   "metadata": {},
   "outputs": [],
   "source": [
    "import pandas as pd\n",
    "import numpy as np"
   ]
  },
  {
   "cell_type": "code",
   "execution_count": 2,
   "metadata": {},
   "outputs": [
    {
     "name": "stdout",
     "output_type": "stream",
     "text": [
      "Hello Capstone Project Course!\n"
     ]
    }
   ],
   "source": [
    "print(\"Hello Capstone Project Course!\")"
   ]
  },
  {
   "cell_type": "markdown",
   "metadata": {},
   "source": [
    "# 1. Introduction\n",
    "\n",
    "\n",
    "## 1.1 Background\n",
    "\n",
    "Seattle is a city which is located at the northwest coast of America by the Pecific Ocean. The coordination of the city center is 47°37'35\" N, 122°19'59\" W. The total area of Seattle is about 369.2 square kilometers. Rain season starts from November to March next year in Seattle, it is the top 15 city which rains the most in US, and 8th worst traffic condition. but the government is trying to solve the traffic problem. \n",
    "\n",
    "\n",
    "## 1.2 Problem\n",
    "\n",
    "As stated in the Coursera module, the problem now is to use the history traffic accident data with the details to build a model, to predict the severity of the coming traffic accidents based on the details provided.\n",
    "\n",
    "# 2. Data Preprocessing\n",
    "\n",
    "## 2.1 Data Obtain\n",
    "\n",
    "The dataset proveid by Seattle Police Department is very detailed and content-rich. There are 194,673 rows and 38 variables. The data has to be preprocessed before we build the model.\n"
   ]
  },
  {
   "cell_type": "code",
   "execution_count": 2,
   "metadata": {},
   "outputs": [
    {
     "name": "stderr",
     "output_type": "stream",
     "text": [
      "C:\\ProgramData\\Anaconda3\\lib\\site-packages\\IPython\\core\\interactiveshell.py:3063: DtypeWarning: Columns (33) have mixed types.Specify dtype option on import or set low_memory=False.\n",
      "  interactivity=interactivity, compiler=compiler, result=result)\n"
     ]
    },
    {
     "data": {
      "text/plain": [
       "(194673, 38)"
      ]
     },
     "execution_count": 2,
     "metadata": {},
     "output_type": "execute_result"
    }
   ],
   "source": [
    "df = pd.read_csv('Data-Collisions.csv')\n",
    "df.shape"
   ]
  },
  {
   "cell_type": "code",
   "execution_count": 4,
   "metadata": {},
   "outputs": [
    {
     "data": {
      "text/html": [
       "<div>\n",
       "<style scoped>\n",
       "    .dataframe tbody tr th:only-of-type {\n",
       "        vertical-align: middle;\n",
       "    }\n",
       "\n",
       "    .dataframe tbody tr th {\n",
       "        vertical-align: top;\n",
       "    }\n",
       "\n",
       "    .dataframe thead th {\n",
       "        text-align: right;\n",
       "    }\n",
       "</style>\n",
       "<table border=\"1\" class=\"dataframe\">\n",
       "  <thead>\n",
       "    <tr style=\"text-align: right;\">\n",
       "      <th></th>\n",
       "      <th>SEVERITYCODE</th>\n",
       "      <th>X</th>\n",
       "      <th>Y</th>\n",
       "      <th>OBJECTID</th>\n",
       "      <th>INCKEY</th>\n",
       "      <th>COLDETKEY</th>\n",
       "      <th>REPORTNO</th>\n",
       "      <th>STATUS</th>\n",
       "      <th>ADDRTYPE</th>\n",
       "      <th>INTKEY</th>\n",
       "      <th>...</th>\n",
       "      <th>ROADCOND</th>\n",
       "      <th>LIGHTCOND</th>\n",
       "      <th>PEDROWNOTGRNT</th>\n",
       "      <th>SDOTCOLNUM</th>\n",
       "      <th>SPEEDING</th>\n",
       "      <th>ST_COLCODE</th>\n",
       "      <th>ST_COLDESC</th>\n",
       "      <th>SEGLANEKEY</th>\n",
       "      <th>CROSSWALKKEY</th>\n",
       "      <th>HITPARKEDCAR</th>\n",
       "    </tr>\n",
       "  </thead>\n",
       "  <tbody>\n",
       "    <tr>\n",
       "      <th>0</th>\n",
       "      <td>2</td>\n",
       "      <td>-122.323148</td>\n",
       "      <td>47.703140</td>\n",
       "      <td>1</td>\n",
       "      <td>1307</td>\n",
       "      <td>1307</td>\n",
       "      <td>3502005</td>\n",
       "      <td>Matched</td>\n",
       "      <td>Intersection</td>\n",
       "      <td>37475.0</td>\n",
       "      <td>...</td>\n",
       "      <td>Wet</td>\n",
       "      <td>Daylight</td>\n",
       "      <td>NaN</td>\n",
       "      <td>NaN</td>\n",
       "      <td>NaN</td>\n",
       "      <td>10</td>\n",
       "      <td>Entering at angle</td>\n",
       "      <td>0</td>\n",
       "      <td>0</td>\n",
       "      <td>N</td>\n",
       "    </tr>\n",
       "    <tr>\n",
       "      <th>1</th>\n",
       "      <td>1</td>\n",
       "      <td>-122.347294</td>\n",
       "      <td>47.647172</td>\n",
       "      <td>2</td>\n",
       "      <td>52200</td>\n",
       "      <td>52200</td>\n",
       "      <td>2607959</td>\n",
       "      <td>Matched</td>\n",
       "      <td>Block</td>\n",
       "      <td>NaN</td>\n",
       "      <td>...</td>\n",
       "      <td>Wet</td>\n",
       "      <td>Dark - Street Lights On</td>\n",
       "      <td>NaN</td>\n",
       "      <td>6354039.0</td>\n",
       "      <td>NaN</td>\n",
       "      <td>11</td>\n",
       "      <td>From same direction - both going straight - bo...</td>\n",
       "      <td>0</td>\n",
       "      <td>0</td>\n",
       "      <td>N</td>\n",
       "    </tr>\n",
       "    <tr>\n",
       "      <th>2</th>\n",
       "      <td>1</td>\n",
       "      <td>-122.334540</td>\n",
       "      <td>47.607871</td>\n",
       "      <td>3</td>\n",
       "      <td>26700</td>\n",
       "      <td>26700</td>\n",
       "      <td>1482393</td>\n",
       "      <td>Matched</td>\n",
       "      <td>Block</td>\n",
       "      <td>NaN</td>\n",
       "      <td>...</td>\n",
       "      <td>Dry</td>\n",
       "      <td>Daylight</td>\n",
       "      <td>NaN</td>\n",
       "      <td>4323031.0</td>\n",
       "      <td>NaN</td>\n",
       "      <td>32</td>\n",
       "      <td>One parked--one moving</td>\n",
       "      <td>0</td>\n",
       "      <td>0</td>\n",
       "      <td>N</td>\n",
       "    </tr>\n",
       "    <tr>\n",
       "      <th>3</th>\n",
       "      <td>1</td>\n",
       "      <td>-122.334803</td>\n",
       "      <td>47.604803</td>\n",
       "      <td>4</td>\n",
       "      <td>1144</td>\n",
       "      <td>1144</td>\n",
       "      <td>3503937</td>\n",
       "      <td>Matched</td>\n",
       "      <td>Block</td>\n",
       "      <td>NaN</td>\n",
       "      <td>...</td>\n",
       "      <td>Dry</td>\n",
       "      <td>Daylight</td>\n",
       "      <td>NaN</td>\n",
       "      <td>NaN</td>\n",
       "      <td>NaN</td>\n",
       "      <td>23</td>\n",
       "      <td>From same direction - all others</td>\n",
       "      <td>0</td>\n",
       "      <td>0</td>\n",
       "      <td>N</td>\n",
       "    </tr>\n",
       "    <tr>\n",
       "      <th>4</th>\n",
       "      <td>2</td>\n",
       "      <td>-122.306426</td>\n",
       "      <td>47.545739</td>\n",
       "      <td>5</td>\n",
       "      <td>17700</td>\n",
       "      <td>17700</td>\n",
       "      <td>1807429</td>\n",
       "      <td>Matched</td>\n",
       "      <td>Intersection</td>\n",
       "      <td>34387.0</td>\n",
       "      <td>...</td>\n",
       "      <td>Wet</td>\n",
       "      <td>Daylight</td>\n",
       "      <td>NaN</td>\n",
       "      <td>4028032.0</td>\n",
       "      <td>NaN</td>\n",
       "      <td>10</td>\n",
       "      <td>Entering at angle</td>\n",
       "      <td>0</td>\n",
       "      <td>0</td>\n",
       "      <td>N</td>\n",
       "    </tr>\n",
       "  </tbody>\n",
       "</table>\n",
       "<p>5 rows × 38 columns</p>\n",
       "</div>"
      ],
      "text/plain": [
       "   SEVERITYCODE           X          Y  OBJECTID  INCKEY  COLDETKEY REPORTNO  \\\n",
       "0             2 -122.323148  47.703140         1    1307       1307  3502005   \n",
       "1             1 -122.347294  47.647172         2   52200      52200  2607959   \n",
       "2             1 -122.334540  47.607871         3   26700      26700  1482393   \n",
       "3             1 -122.334803  47.604803         4    1144       1144  3503937   \n",
       "4             2 -122.306426  47.545739         5   17700      17700  1807429   \n",
       "\n",
       "    STATUS      ADDRTYPE   INTKEY  ... ROADCOND                LIGHTCOND  \\\n",
       "0  Matched  Intersection  37475.0  ...      Wet                 Daylight   \n",
       "1  Matched         Block      NaN  ...      Wet  Dark - Street Lights On   \n",
       "2  Matched         Block      NaN  ...      Dry                 Daylight   \n",
       "3  Matched         Block      NaN  ...      Dry                 Daylight   \n",
       "4  Matched  Intersection  34387.0  ...      Wet                 Daylight   \n",
       "\n",
       "  PEDROWNOTGRNT  SDOTCOLNUM SPEEDING ST_COLCODE  \\\n",
       "0           NaN         NaN      NaN         10   \n",
       "1           NaN   6354039.0      NaN         11   \n",
       "2           NaN   4323031.0      NaN         32   \n",
       "3           NaN         NaN      NaN         23   \n",
       "4           NaN   4028032.0      NaN         10   \n",
       "\n",
       "                                          ST_COLDESC  SEGLANEKEY  \\\n",
       "0                                  Entering at angle           0   \n",
       "1  From same direction - both going straight - bo...           0   \n",
       "2                             One parked--one moving           0   \n",
       "3                   From same direction - all others           0   \n",
       "4                                  Entering at angle           0   \n",
       "\n",
       "   CROSSWALKKEY  HITPARKEDCAR  \n",
       "0             0             N  \n",
       "1             0             N  \n",
       "2             0             N  \n",
       "3             0             N  \n",
       "4             0             N  \n",
       "\n",
       "[5 rows x 38 columns]"
      ]
     },
     "execution_count": 4,
     "metadata": {},
     "output_type": "execute_result"
    }
   ],
   "source": [
    "df.head()"
   ]
  },
  {
   "cell_type": "code",
   "execution_count": 3,
   "metadata": {},
   "outputs": [],
   "source": [
    "import datetime as dt"
   ]
  },
  {
   "cell_type": "markdown",
   "metadata": {},
   "source": [
    "## 2.2 Data Preprocessing\n",
    "\n",
    "From the datas showed above, we can determine that 'SEVERITYCODE' is the dependent variable and some of the variables we can merge and drop to make the dataset more efficient. First, we shall drop some of the data which is unpredictable and the columns which containing lots of 'NaN' values in it.\n",
    "So the left variables are 'SEVERITYCODE', 'ADDRTYPE', 'WEATHER', 'ROADCOND', 'LIGHTCOND', 'ST_COLCODE', 'INCDTTM'."
   ]
  },
  {
   "cell_type": "code",
   "execution_count": 4,
   "metadata": {},
   "outputs": [
    {
     "name": "stderr",
     "output_type": "stream",
     "text": [
      "C:\\ProgramData\\Anaconda3\\lib\\site-packages\\ipykernel_launcher.py:2: SettingWithCopyWarning: \n",
      "A value is trying to be set on a copy of a slice from a DataFrame.\n",
      "Try using .loc[row_indexer,col_indexer] = value instead\n",
      "\n",
      "See the caveats in the documentation: https://pandas.pydata.org/pandas-docs/stable/user_guide/indexing.html#returning-a-view-versus-a-copy\n",
      "  \n",
      "C:\\ProgramData\\Anaconda3\\lib\\site-packages\\ipykernel_launcher.py:3: SettingWithCopyWarning: \n",
      "A value is trying to be set on a copy of a slice from a DataFrame.\n",
      "Try using .loc[row_indexer,col_indexer] = value instead\n",
      "\n",
      "See the caveats in the documentation: https://pandas.pydata.org/pandas-docs/stable/user_guide/indexing.html#returning-a-view-versus-a-copy\n",
      "  This is separate from the ipykernel package so we can avoid doing imports until\n"
     ]
    },
    {
     "data": {
      "text/html": [
       "<div>\n",
       "<style scoped>\n",
       "    .dataframe tbody tr th:only-of-type {\n",
       "        vertical-align: middle;\n",
       "    }\n",
       "\n",
       "    .dataframe tbody tr th {\n",
       "        vertical-align: top;\n",
       "    }\n",
       "\n",
       "    .dataframe thead th {\n",
       "        text-align: right;\n",
       "    }\n",
       "</style>\n",
       "<table border=\"1\" class=\"dataframe\">\n",
       "  <thead>\n",
       "    <tr style=\"text-align: right;\">\n",
       "      <th></th>\n",
       "      <th>SEVERITYCODE</th>\n",
       "      <th>ADDRTYPE</th>\n",
       "      <th>WEATHER</th>\n",
       "      <th>ROADCOND</th>\n",
       "      <th>LIGHTCOND</th>\n",
       "      <th>ST_COLCODE</th>\n",
       "      <th>INCDTTM</th>\n",
       "      <th>time</th>\n",
       "    </tr>\n",
       "  </thead>\n",
       "  <tbody>\n",
       "    <tr>\n",
       "      <th>0</th>\n",
       "      <td>2</td>\n",
       "      <td>Intersection</td>\n",
       "      <td>Overcast</td>\n",
       "      <td>Wet</td>\n",
       "      <td>Daylight</td>\n",
       "      <td>10</td>\n",
       "      <td>2013-03-27 14:54:00</td>\n",
       "      <td>14:54:00</td>\n",
       "    </tr>\n",
       "    <tr>\n",
       "      <th>1</th>\n",
       "      <td>1</td>\n",
       "      <td>Block</td>\n",
       "      <td>Raining</td>\n",
       "      <td>Wet</td>\n",
       "      <td>Dark - Street Lights On</td>\n",
       "      <td>11</td>\n",
       "      <td>2006-12-20 18:55:00</td>\n",
       "      <td>18:55:00</td>\n",
       "    </tr>\n",
       "    <tr>\n",
       "      <th>2</th>\n",
       "      <td>1</td>\n",
       "      <td>Block</td>\n",
       "      <td>Overcast</td>\n",
       "      <td>Dry</td>\n",
       "      <td>Daylight</td>\n",
       "      <td>32</td>\n",
       "      <td>2004-11-18 10:20:00</td>\n",
       "      <td>10:20:00</td>\n",
       "    </tr>\n",
       "    <tr>\n",
       "      <th>3</th>\n",
       "      <td>1</td>\n",
       "      <td>Block</td>\n",
       "      <td>Clear</td>\n",
       "      <td>Dry</td>\n",
       "      <td>Daylight</td>\n",
       "      <td>23</td>\n",
       "      <td>2013-03-29 09:26:00</td>\n",
       "      <td>09:26:00</td>\n",
       "    </tr>\n",
       "    <tr>\n",
       "      <th>4</th>\n",
       "      <td>2</td>\n",
       "      <td>Intersection</td>\n",
       "      <td>Raining</td>\n",
       "      <td>Wet</td>\n",
       "      <td>Daylight</td>\n",
       "      <td>10</td>\n",
       "      <td>2004-01-28 08:04:00</td>\n",
       "      <td>08:04:00</td>\n",
       "    </tr>\n",
       "  </tbody>\n",
       "</table>\n",
       "</div>"
      ],
      "text/plain": [
       "   SEVERITYCODE      ADDRTYPE   WEATHER ROADCOND                LIGHTCOND  \\\n",
       "0             2  Intersection  Overcast      Wet                 Daylight   \n",
       "1             1         Block   Raining      Wet  Dark - Street Lights On   \n",
       "2             1         Block  Overcast      Dry                 Daylight   \n",
       "3             1         Block     Clear      Dry                 Daylight   \n",
       "4             2  Intersection   Raining      Wet                 Daylight   \n",
       "\n",
       "  ST_COLCODE             INCDTTM      time  \n",
       "0         10 2013-03-27 14:54:00  14:54:00  \n",
       "1         11 2006-12-20 18:55:00  18:55:00  \n",
       "2         32 2004-11-18 10:20:00  10:20:00  \n",
       "3         23 2013-03-29 09:26:00  09:26:00  \n",
       "4         10 2004-01-28 08:04:00  08:04:00  "
      ]
     },
     "execution_count": 4,
     "metadata": {},
     "output_type": "execute_result"
    }
   ],
   "source": [
    "df_dp1 = df[['SEVERITYCODE', 'ADDRTYPE', 'WEATHER', 'ROADCOND', 'LIGHTCOND', 'ST_COLCODE', 'INCDTTM']]\n",
    "df_dp1['INCDTTM'] = pd.to_datetime(df_dp1['INCDTTM'])\n",
    "df_dp1['time'] = df_dp1['INCDTTM'].dt.time\n",
    "df_dp1.head()"
   ]
  },
  {
   "cell_type": "markdown",
   "metadata": {},
   "source": [
    "Then drop the rows contains null values and count the numbers for each variable."
   ]
  },
  {
   "cell_type": "code",
   "execution_count": 6,
   "metadata": {},
   "outputs": [
    {
     "name": "stdout",
     "output_type": "stream",
     "text": [
      "0\n"
     ]
    }
   ],
   "source": [
    "df_dp1 = df_dp1.dropna();\n",
    "print(df_dp1.isnull().sum().sum())"
   ]
  },
  {
   "cell_type": "code",
   "execution_count": 7,
   "metadata": {},
   "outputs": [
    {
     "name": "stdout",
     "output_type": "stream",
     "text": [
      "1    130637\n",
      "2     56870\n",
      "Name: SEVERITYCODE, dtype: int64\n",
      "Block           123317\n",
      "Intersection     63448\n",
      "Alley              742\n",
      "Name: ADDRTYPE, dtype: int64\n",
      "Clear                       110494\n",
      "Raining                      32969\n",
      "Overcast                     27545\n",
      "Unknown                      14059\n",
      "Snowing                        896\n",
      "Other                          790\n",
      "Fog/Smog/Smoke                 563\n",
      "Sleet/Hail/Freezing Rain       112\n",
      "Blowing Sand/Dirt               49\n",
      "Severe Crosswind                25\n",
      "Partly Cloudy                    5\n",
      "Name: WEATHER, dtype: int64\n",
      "Dry               123731\n",
      "Wet                47213\n",
      "Unknown            14007\n",
      "Ice                 1192\n",
      "Snow/Slush           992\n",
      "Other                124\n",
      "Standing Water       111\n",
      "Sand/Mud/Dirt         73\n",
      "Oil                   64\n",
      "Name: ROADCOND, dtype: int64\n",
      "Daylight                    115396\n",
      "Dark - Street Lights On      48233\n",
      "Unknown                      12599\n",
      "Dusk                          5842\n",
      "Dawn                          2490\n",
      "Dark - No Street Lights       1525\n",
      "Dark - Street Lights Off      1184\n",
      "Other                          227\n",
      "Dark - Unknown Lighting         11\n",
      "Name: LIGHTCOND, dtype: int64\n"
     ]
    }
   ],
   "source": [
    "print(df_dp1['SEVERITYCODE'].value_counts())\n",
    "print(df_dp1['ADDRTYPE'].value_counts())\n",
    "print(df_dp1['WEATHER'].value_counts())\n",
    "print(df_dp1['ROADCOND'].value_counts())\n",
    "print(df_dp1['LIGHTCOND'].value_counts())"
   ]
  },
  {
   "cell_type": "markdown",
   "metadata": {},
   "source": [
    "Numberize the data so all the Machine Learning tools can process the data."
   ]
  },
  {
   "cell_type": "markdown",
   "metadata": {},
   "source": [
    "Now our data set is ready to be processed by ML tools."
   ]
  },
  {
   "cell_type": "markdown",
   "metadata": {},
   "source": [
    "# 3. Exploratory Data Analysis\n",
    "\n",
    "## 3.1 Machine Learning Tools\n",
    "\n",
    "Let us split the whole data set randomly and saperate the dataframe into training set and test set. Since all the variables are influencing the dependent variable, y is the dataframe with 'SEVERITYCODE' and X is the dataframe with 'ADDRTYPE', 'WEATHER', 'ROADCOND' and 'LIGHTCOND'. \n",
    "\n",
    "And we split 30% of the dataset as test data and the random state equals 4."
   ]
  },
  {
   "cell_type": "code",
   "execution_count": 9,
   "metadata": {},
   "outputs": [],
   "source": [
    "import itertools\n",
    "import numpy as np\n",
    "import matplotlib.pyplot as plt\n",
    "from matplotlib.ticker import NullFormatter\n",
    "import pandas as pd\n",
    "import numpy as np\n",
    "import matplotlib.ticker as ticker\n",
    "from sklearn import preprocessing\n",
    "%matplotlib inline"
   ]
  },
  {
   "cell_type": "code",
   "execution_count": 10,
   "metadata": {},
   "outputs": [
    {
     "data": {
      "text/html": [
       "<div>\n",
       "<style scoped>\n",
       "    .dataframe tbody tr th:only-of-type {\n",
       "        vertical-align: middle;\n",
       "    }\n",
       "\n",
       "    .dataframe tbody tr th {\n",
       "        vertical-align: top;\n",
       "    }\n",
       "\n",
       "    .dataframe thead th {\n",
       "        text-align: right;\n",
       "    }\n",
       "</style>\n",
       "<table border=\"1\" class=\"dataframe\">\n",
       "  <thead>\n",
       "    <tr style=\"text-align: right;\">\n",
       "      <th></th>\n",
       "      <th>ADDRTYPE</th>\n",
       "      <th>WEATHER</th>\n",
       "      <th>ROADCOND</th>\n",
       "      <th>LIGHTCOND</th>\n",
       "    </tr>\n",
       "  </thead>\n",
       "  <tbody>\n",
       "    <tr>\n",
       "      <th>0</th>\n",
       "      <td>2</td>\n",
       "      <td>4</td>\n",
       "      <td>8</td>\n",
       "      <td>5</td>\n",
       "    </tr>\n",
       "    <tr>\n",
       "      <th>1</th>\n",
       "      <td>1</td>\n",
       "      <td>6</td>\n",
       "      <td>8</td>\n",
       "      <td>2</td>\n",
       "    </tr>\n",
       "    <tr>\n",
       "      <th>2</th>\n",
       "      <td>1</td>\n",
       "      <td>4</td>\n",
       "      <td>0</td>\n",
       "      <td>5</td>\n",
       "    </tr>\n",
       "    <tr>\n",
       "      <th>3</th>\n",
       "      <td>1</td>\n",
       "      <td>1</td>\n",
       "      <td>0</td>\n",
       "      <td>5</td>\n",
       "    </tr>\n",
       "    <tr>\n",
       "      <th>4</th>\n",
       "      <td>2</td>\n",
       "      <td>6</td>\n",
       "      <td>8</td>\n",
       "      <td>5</td>\n",
       "    </tr>\n",
       "  </tbody>\n",
       "</table>\n",
       "</div>"
      ],
      "text/plain": [
       "   ADDRTYPE  WEATHER  ROADCOND  LIGHTCOND\n",
       "0         2        4         8          5\n",
       "1         1        6         8          2\n",
       "2         1        4         0          5\n",
       "3         1        1         0          5\n",
       "4         2        6         8          5"
      ]
     },
     "execution_count": 10,
     "metadata": {},
     "output_type": "execute_result"
    }
   ],
   "source": [
    "X = df_dp1[['ADDRTYPE', 'WEATHER', 'ROADCOND', 'LIGHTCOND']]\n",
    "X.head()"
   ]
  },
  {
   "cell_type": "code",
   "execution_count": 11,
   "metadata": {},
   "outputs": [
    {
     "data": {
      "text/plain": [
       "array([2, 1, 1, 1, 2], dtype=int64)"
      ]
     },
     "execution_count": 11,
     "metadata": {},
     "output_type": "execute_result"
    }
   ],
   "source": [
    "y = df_dp1['SEVERITYCODE'].values\n",
    "y[0:5]"
   ]
  },
  {
   "cell_type": "code",
   "execution_count": 12,
   "metadata": {},
   "outputs": [
    {
     "data": {
      "text/plain": [
       "array([[ 1.38633279,  0.33718311,  1.48659235,  0.36199765],\n",
       "       [-0.69655999,  1.04639592,  1.48659235, -1.40136434],\n",
       "       [-0.69655999,  0.33718311, -0.7067657 ,  0.36199765],\n",
       "       [-0.69655999, -0.72663609, -0.7067657 ,  0.36199765],\n",
       "       [ 1.38633279,  1.04639592,  1.48659235,  0.36199765]])"
      ]
     },
     "execution_count": 12,
     "metadata": {},
     "output_type": "execute_result"
    }
   ],
   "source": [
    "X= preprocessing.StandardScaler().fit(X).transform(X.astype(float))\n",
    "X[0:5]"
   ]
  },
  {
   "cell_type": "code",
   "execution_count": 13,
   "metadata": {},
   "outputs": [
    {
     "name": "stdout",
     "output_type": "stream",
     "text": [
      "Train set: (131254, 4) (131254,)\n",
      "Test set: (56253, 4) (56253,)\n"
     ]
    }
   ],
   "source": [
    "from sklearn.model_selection import train_test_split\n",
    "X_train, X_test, y_train, y_test = train_test_split( X, y, test_size=0.3, random_state=4)\n",
    "print ('Train set:', X_train.shape,  y_train.shape)\n",
    "print ('Test set:', X_test.shape,  y_test.shape)"
   ]
  },
  {
   "cell_type": "markdown",
   "metadata": {},
   "source": [
    "## 3.2 Machine Learning Tools Application\n",
    "\n",
    "### 3.2.1 K Nearest Neighbor(KNN)\n"
   ]
  },
  {
   "cell_type": "code",
   "execution_count": 23,
   "metadata": {},
   "outputs": [],
   "source": [
    "from sklearn.neighbors import KNeighborsClassifier\n",
    "from sklearn import metrics\n",
    "from sklearn.metrics import jaccard_similarity_score\n",
    "from sklearn.metrics import f1_score\n",
    "from sklearn.metrics import log_loss"
   ]
  },
  {
   "cell_type": "code",
   "execution_count": 18,
   "metadata": {},
   "outputs": [
    {
     "name": "stdout",
     "output_type": "stream",
     "text": [
      "The best accuracy was with 0.6949140490284963 with k= 6\n"
     ]
    }
   ],
   "source": [
    "Ks = 15\n",
    "\n",
    "neigh = KNeighborsClassifier(n_neighbors = Ks).fit(X_train,y_train)\n",
    "neigh\n",
    "\n",
    "mean_acc = np.zeros((Ks-1))\n",
    "std_acc = np.zeros((Ks-1))\n",
    "ConfustionMx = [];\n",
    "for n in range(1,Ks):\n",
    "     \n",
    "    neigh = KNeighborsClassifier(n_neighbors = n).fit(X_train,y_train)\n",
    "    yhat=neigh.predict(X_test)\n",
    "    mean_acc[n-1] = metrics.accuracy_score(y_test, yhat)\n",
    "\n",
    "    \n",
    "    std_acc[n-1]=np.std(yhat==y_test)/np.sqrt(yhat.shape[0])\n",
    "\n",
    "mean_acc\n",
    "\n",
    "print( \"The best accuracy was with\", mean_acc.max(), \"with k=\", mean_acc.argmax()+1) "
   ]
  },
  {
   "cell_type": "code",
   "execution_count": 24,
   "metadata": {},
   "outputs": [
    {
     "name": "stdout",
     "output_type": "stream",
     "text": [
      "f1 =  0.5843517165431125\n",
      "jac =  0.6948962721988161\n"
     ]
    },
    {
     "name": "stderr",
     "output_type": "stream",
     "text": [
      "C:\\ProgramData\\Anaconda3\\lib\\site-packages\\sklearn\\metrics\\_classification.py:664: FutureWarning: jaccard_similarity_score has been deprecated and replaced with jaccard_score. It will be removed in version 0.23. This implementation has surprising behavior for binary and multiclass classification tasks.\n",
      "  FutureWarning)\n"
     ]
    }
   ],
   "source": [
    "neigh = KNeighborsClassifier(n_neighbors = 6).fit(X_train,y_train)\n",
    "yhat=neigh.predict(X_test)\n",
    "KNN_f1 = f1_score(y_test, yhat, average='weighted') \n",
    "KNN_jac = jaccard_similarity_score(y_test, yhat)\n",
    "\n",
    "print( \"f1 = \",KNN_f1)\n",
    "print( \"jac = \",KNN_jac)"
   ]
  },
  {
   "cell_type": "markdown",
   "metadata": {},
   "source": [
    "For KNN model, the best accuracy is when k = 6.\n",
    "\n",
    "And f1 score equals 0.5844, jaccard similarity score equals 0.6949.\n",
    "\n",
    "Decision Tree is not quite fit for this model, so we will pass on that.\n",
    "\n",
    "### 3.2.2 Support Vector Machine"
   ]
  },
  {
   "cell_type": "code",
   "execution_count": 15,
   "metadata": {},
   "outputs": [
    {
     "name": "stdout",
     "output_type": "stream",
     "text": [
      "f1 =  0.5740515177883644\n",
      "jac =  0.6981494320302917\n"
     ]
    },
    {
     "name": "stderr",
     "output_type": "stream",
     "text": [
      "C:\\ProgramData\\Anaconda3\\lib\\site-packages\\sklearn\\metrics\\_classification.py:664: FutureWarning: jaccard_similarity_score has been deprecated and replaced with jaccard_score. It will be removed in version 0.23. This implementation has surprising behavior for binary and multiclass classification tasks.\n",
      "  FutureWarning)\n"
     ]
    }
   ],
   "source": [
    "import scipy.optimize as opt\n",
    "from sklearn import svm\n",
    "clf = svm.SVC(kernel='rbf')\n",
    "clf.fit(X_train, y_train)\n",
    "yhat3 = clf.predict(X_test)\n",
    "\n",
    "SVM_f1 = f1_score(y_test, yhat3, average='weighted') \n",
    "SVM_jac = jaccard_similarity_score(y_test, yhat3)\n",
    "\n",
    "print( \"f1 = \",SVM_f1)\n",
    "print( \"jac = \",SVM_jac)"
   ]
  },
  {
   "cell_type": "markdown",
   "metadata": {},
   "source": [
    "For the Support Vector Machine, f1 score equals 0.5741, the jaccard similarity score equals 0.6981."
   ]
  },
  {
   "cell_type": "markdown",
   "metadata": {},
   "source": [
    "### 3.2.3 Logistic Regression\n",
    "\n",
    "The logistic regression model can be built as shown below."
   ]
  },
  {
   "cell_type": "code",
   "execution_count": 18,
   "metadata": {},
   "outputs": [],
   "source": [
    "from sklearn.metrics import log_loss\n",
    "from sklearn.linear_model import LogisticRegression\n",
    "from sklearn.metrics import confusion_matrix"
   ]
  },
  {
   "cell_type": "code",
   "execution_count": 20,
   "metadata": {},
   "outputs": [
    {
     "name": "stdout",
     "output_type": "stream",
     "text": [
      "f1 =  0.5796698560444287\n",
      "jac =  0.696993938101079\n"
     ]
    },
    {
     "name": "stderr",
     "output_type": "stream",
     "text": [
      "C:\\ProgramData\\Anaconda3\\lib\\site-packages\\sklearn\\metrics\\_classification.py:664: FutureWarning: jaccard_similarity_score has been deprecated and replaced with jaccard_score. It will be removed in version 0.23. This implementation has surprising behavior for binary and multiclass classification tasks.\n",
      "  FutureWarning)\n"
     ]
    }
   ],
   "source": [
    "LR = LogisticRegression(C=0.01, solver='liblinear').fit(X_train,y_train)\n",
    "yhat4 = LR.predict(X_test)\n",
    "\n",
    "LR_f1 = f1_score(y_test, yhat4, average='weighted') \n",
    "LR_jac = jaccard_similarity_score(y_test, yhat4)\n",
    "\n",
    "print( \"f1 = \",LR_f1)\n",
    "print( \"jac = \",LR_jac)"
   ]
  },
  {
   "cell_type": "code",
   "execution_count": 21,
   "metadata": {},
   "outputs": [
    {
     "name": "stdout",
     "output_type": "stream",
     "text": [
      "Log Loss =  0.5869510486464813\n"
     ]
    }
   ],
   "source": [
    "yhat4_prob = LR.predict_proba(X_test)\n",
    "LR_LL = log_loss(y_test, yhat4_prob)\n",
    "print( \"Log Loss = \",LR_LL)"
   ]
  },
  {
   "cell_type": "markdown",
   "metadata": {},
   "source": [
    "For the Support Vector Machine, f1 score equals 0.5741, the jaccard similarity score equals 0.6981.\n",
    "\n",
    "## 3.3 Evaluation Report\n",
    "\n",
    "The matrix for different machine learning method of f1 score and jaccard similarity score can be generated as shown."
   ]
  },
  {
   "cell_type": "code",
   "execution_count": 25,
   "metadata": {},
   "outputs": [
    {
     "data": {
      "text/html": [
       "<div>\n",
       "<style scoped>\n",
       "    .dataframe tbody tr th:only-of-type {\n",
       "        vertical-align: middle;\n",
       "    }\n",
       "\n",
       "    .dataframe tbody tr th {\n",
       "        vertical-align: top;\n",
       "    }\n",
       "\n",
       "    .dataframe thead th {\n",
       "        text-align: right;\n",
       "    }\n",
       "</style>\n",
       "<table border=\"1\" class=\"dataframe\">\n",
       "  <thead>\n",
       "    <tr style=\"text-align: right;\">\n",
       "      <th></th>\n",
       "      <th>Algorithm</th>\n",
       "      <th>Jaccard</th>\n",
       "      <th>F1-score</th>\n",
       "      <th>LogLoss</th>\n",
       "    </tr>\n",
       "  </thead>\n",
       "  <tbody>\n",
       "    <tr>\n",
       "      <th>0</th>\n",
       "      <td>KNN</td>\n",
       "      <td>0.694896</td>\n",
       "      <td>0.584352</td>\n",
       "      <td>NA</td>\n",
       "    </tr>\n",
       "    <tr>\n",
       "      <th>1</th>\n",
       "      <td>SVM</td>\n",
       "      <td>0.698149</td>\n",
       "      <td>0.574052</td>\n",
       "      <td>NA</td>\n",
       "    </tr>\n",
       "    <tr>\n",
       "      <th>2</th>\n",
       "      <td>LogisticRegression</td>\n",
       "      <td>0.696994</td>\n",
       "      <td>0.579670</td>\n",
       "      <td>0.586951</td>\n",
       "    </tr>\n",
       "  </tbody>\n",
       "</table>\n",
       "</div>"
      ],
      "text/plain": [
       "            Algorithm   Jaccard  F1-score   LogLoss\n",
       "0                 KNN  0.694896  0.584352        NA\n",
       "1                 SVM  0.698149  0.574052        NA\n",
       "2  LogisticRegression  0.696994  0.579670  0.586951"
      ]
     },
     "execution_count": 25,
     "metadata": {},
     "output_type": "execute_result"
    }
   ],
   "source": [
    "r = {'Algorithm': [\"KNN\", \"SVM\", \"LogisticRegression\"],\n",
    "          'Jaccard': [KNN_jac, SVM_jac, LR_jac],\n",
    "          'F1-score': [KNN_f1, SVM_f1, LR_f1],\n",
    "          'LogLoss': [\"NA\", \"NA\", LR_LL]}\n",
    "report = pd.DataFrame(data=r)\n",
    "report.head()"
   ]
  },
  {
   "cell_type": "markdown",
   "metadata": {},
   "source": [
    "There are not too much difference among three machine learning methods, so all three of them can be used as the machine learning tools to predict the serverity of an accident.\n",
    "\n",
    "## 3.4 Relationship Between Dependent Variable and Single Variable.\n",
    "\n",
    "The relationship between dependent varibale and a single variable can be analyzed more easily via charts.\n",
    "\n",
    "### 3.4.1 'SEVERITYCODE' and 'ADDRTYPE'\n",
    "\n",
    "From the metadata file, we can know that the 'ADDRTYPE' indicates the address types of where accidents happened, there are block, intercection and alley, we can directly find some information from the chart.\n"
   ]
  },
  {
   "cell_type": "code",
   "execution_count": 26,
   "metadata": {},
   "outputs": [
    {
     "data": {
      "text/html": [
       "<div>\n",
       "<style scoped>\n",
       "    .dataframe tbody tr th:only-of-type {\n",
       "        vertical-align: middle;\n",
       "    }\n",
       "\n",
       "    .dataframe tbody tr th {\n",
       "        vertical-align: top;\n",
       "    }\n",
       "\n",
       "    .dataframe thead th {\n",
       "        text-align: right;\n",
       "    }\n",
       "</style>\n",
       "<table border=\"1\" class=\"dataframe\">\n",
       "  <thead>\n",
       "    <tr style=\"text-align: right;\">\n",
       "      <th></th>\n",
       "      <th>SEVERITYCODE</th>\n",
       "      <th>ADDRTYPE</th>\n",
       "    </tr>\n",
       "  </thead>\n",
       "  <tbody>\n",
       "    <tr>\n",
       "      <th>0</th>\n",
       "      <td>2</td>\n",
       "      <td>Intersection</td>\n",
       "    </tr>\n",
       "    <tr>\n",
       "      <th>1</th>\n",
       "      <td>1</td>\n",
       "      <td>Block</td>\n",
       "    </tr>\n",
       "    <tr>\n",
       "      <th>2</th>\n",
       "      <td>1</td>\n",
       "      <td>Block</td>\n",
       "    </tr>\n",
       "    <tr>\n",
       "      <th>3</th>\n",
       "      <td>1</td>\n",
       "      <td>Block</td>\n",
       "    </tr>\n",
       "    <tr>\n",
       "      <th>4</th>\n",
       "      <td>2</td>\n",
       "      <td>Intersection</td>\n",
       "    </tr>\n",
       "  </tbody>\n",
       "</table>\n",
       "</div>"
      ],
      "text/plain": [
       "   SEVERITYCODE      ADDRTYPE\n",
       "0             2  Intersection\n",
       "1             1         Block\n",
       "2             1         Block\n",
       "3             1         Block\n",
       "4             2  Intersection"
      ]
     },
     "execution_count": 26,
     "metadata": {},
     "output_type": "execute_result"
    }
   ],
   "source": [
    "# obtain data for chart 1\n",
    "df_dp2 = df[['SEVERITYCODE', 'ADDRTYPE', 'WEATHER', 'ROADCOND', 'LIGHTCOND', 'ST_COLCODE', 'INCDTTM']]\n",
    "df_dp2 = df_dp2.dropna();\n",
    "df_c1 = df_dp2[['SEVERITYCODE', 'ADDRTYPE']]\n",
    "df_c1.head()"
   ]
  },
  {
   "cell_type": "code",
   "execution_count": 27,
   "metadata": {},
   "outputs": [
    {
     "name": "stdout",
     "output_type": "stream",
     "text": [
      "Collecting package metadata (current_repodata.json): ...working... done\n",
      "Solving environment: ...working... done\n",
      "\n",
      "# All requested packages already installed.\n",
      "\n"
     ]
    }
   ],
   "source": [
    "!conda install -c anaconda seaborn -y\n",
    "import seaborn as sns"
   ]
  },
  {
   "cell_type": "code",
   "execution_count": 46,
   "metadata": {},
   "outputs": [
    {
     "data": {
      "image/png": "[encoded data removed]",
      "text/plain": [
       "<Figure size 432x216 with 2 Axes>"
      ]
     },
     "metadata": {
      "needs_background": "light"
     },
     "output_type": "display_data"
    }
   ],
   "source": [
    "bins = 3\n",
    "g = sns.FacetGrid(df_c1, col=\"SEVERITYCODE\", hue=\"SEVERITYCODE\", col_wrap=2)\n",
    "g.map(plt.hist, 'ADDRTYPE', bins=bins, ec=\"k\")\n",
    "\n",
    "\n",
    "plt.show()"
   ]
  },
  {
   "cell_type": "markdown",
   "metadata": {},
   "source": [
    "We can see from the bar chart, there are about the same number of accidents happened in block and alley for both severity code of 1 and 2. But for Intersection, severity code 1 accident is about four times more than severity code 2 accident.\n"
   ]
  },
  {
   "cell_type": "markdown",
   "metadata": {},
   "source": [
    "### 3.4.2 'SEVERITYCODE' and 'ROADCON'\n",
    "\n",
    "Belows are the pie charts generated based on the data of 'SEVERITYCODE' and 'ROADCON'"
   ]
  },
  {
   "cell_type": "code",
   "execution_count": 54,
   "metadata": {},
   "outputs": [],
   "source": [
    "# sort data contains 'SEVERITYCODE', 'ADDRTYPE', 'ROADCOND'\n",
    "df_c2 = df_dp2[['SEVERITYCODE', 'ADDRTYPE', 'ROADCOND']]\n",
    "df_s1 = df_c2.drop(df_c2[df_c2.SEVERITYCODE == 2].index)\n",
    "df_s2 = df_c2.drop(df_c2[df_c2.SEVERITYCODE == 1].index)"
   ]
  },
  {
   "cell_type": "code",
   "execution_count": 56,
   "metadata": {},
   "outputs": [],
   "source": [
    "%matplotlib inline\n",
    "\n",
    "import matplotlib as mpl\n",
    "import matplotlib.pyplot as plt\n",
    "\n",
    "mpl.style.use('ggplot')"
   ]
  },
  {
   "cell_type": "code",
   "execution_count": 59,
   "metadata": {},
   "outputs": [
    {
     "data": {
      "text/html": [
       "<div>\n",
       "<style scoped>\n",
       "    .dataframe tbody tr th:only-of-type {\n",
       "        vertical-align: middle;\n",
       "    }\n",
       "\n",
       "    .dataframe tbody tr th {\n",
       "        vertical-align: top;\n",
       "    }\n",
       "\n",
       "    .dataframe thead th {\n",
       "        text-align: right;\n",
       "    }\n",
       "</style>\n",
       "<table border=\"1\" class=\"dataframe\">\n",
       "  <thead>\n",
       "    <tr style=\"text-align: right;\">\n",
       "      <th></th>\n",
       "      <th>SEVERITYCODE</th>\n",
       "    </tr>\n",
       "    <tr>\n",
       "      <th>ROADCOND</th>\n",
       "      <th></th>\n",
       "    </tr>\n",
       "  </thead>\n",
       "  <tbody>\n",
       "    <tr>\n",
       "      <th>Dry</th>\n",
       "      <td>83833</td>\n",
       "    </tr>\n",
       "    <tr>\n",
       "      <th>Ice</th>\n",
       "      <td>923</td>\n",
       "    </tr>\n",
       "    <tr>\n",
       "      <th>Oil</th>\n",
       "      <td>40</td>\n",
       "    </tr>\n",
       "    <tr>\n",
       "      <th>Other</th>\n",
       "      <td>82</td>\n",
       "    </tr>\n",
       "    <tr>\n",
       "      <th>Sand/Mud/Dirt</th>\n",
       "      <td>51</td>\n",
       "    </tr>\n",
       "  </tbody>\n",
       "</table>\n",
       "</div>"
      ],
      "text/plain": [
       "               SEVERITYCODE\n",
       "ROADCOND                   \n",
       "Dry                   83833\n",
       "Ice                     923\n",
       "Oil                      40\n",
       "Other                    82\n",
       "Sand/Mud/Dirt            51"
      ]
     },
     "execution_count": 59,
     "metadata": {},
     "output_type": "execute_result"
    }
   ],
   "source": [
    "df_s1p.head()"
   ]
  },
  {
   "cell_type": "code",
   "execution_count": 79,
   "metadata": {},
   "outputs": [
    {
     "data": {
      "image/png": "[encoded data removed]",
      "text/plain": [
       "<Figure size 360x432 with 1 Axes>"
      ]
     },
     "metadata": {},
     "output_type": "display_data"
    }
   ],
   "source": [
    "# plot pie chart for with severity code equals 1 and road condition\n",
    "df_s1.drop(df_s1[df_s1.ROADCOND == \"Unknown\"].index, inplace = True)\n",
    "df_s1.drop(df_s1[df_s1.ROADCOND == \"Other\"].index, inplace = True)\n",
    "df_s1p = df_s1.groupby('ROADCOND', axis=0).sum()\n",
    "\n",
    "colors = ['lightcoral','red', 'gold', 'lightskyblue', \n",
    "          'white', 'darkgreen','blue']\n",
    "\n",
    "df_s1p['SEVERITYCODE'].plot(kind='pie',\n",
    "                            figsize=(5, 6),\n",
    "                            autopct='%1.1f%%', # add in percentages\n",
    "                            startangle=90,     # start angle 90° (Africa)\n",
    "                            shadow=True,       # add shadow      \n",
    "                            colors=colors\n",
    "                            )\n",
    "plt.tight_layout()\n",
    "plt.title('Accident Distribution for Different Road Condition')\n",
    "plt.axis('equal') # Sets the pie chart to look like a circle.\n",
    "plt.legend(labels=df_s1p.index, loc=3)\n",
    "\n",
    "plt.show()"
   ]
  },
  {
   "cell_type": "markdown",
   "metadata": {},
   "source": [
    "For severity level 1, dry road condition takes majority of the accidents, about 71.5 percent, the second most part is wet road condition, about 26.9%. let's drop the data for dry condtion, and replot the chart."
   ]
  },
  {
   "cell_type": "markdown",
   "metadata": {},
   "source": [
    "Despite of dry road condition, wet road condtion takes the absolute majority of all the accidents."
   ]
  },
  {
   "cell_type": "code",
   "execution_count": 81,
   "metadata": {},
   "outputs": [
    {
     "data": {
      "image/png": "[encoded data removed]",
      "text/plain": [
       "<Figure size 360x432 with 1 Axes>"
      ]
     },
     "metadata": {},
     "output_type": "display_data"
    }
   ],
   "source": [
    "\n",
    "# plot pie chart for with severity code equals 2 and road condition\n",
    "df_s2.drop(df_s2[df_s2.ROADCOND == \"Unknown\"].index, inplace = True)\n",
    "df_s2.drop(df_s2[df_s2.ROADCOND == \"Other\"].index, inplace = True)\n",
    "df_s2p = df_s2.groupby('ROADCOND', axis=0).sum()\n",
    "\n",
    "colors = ['lightcoral','red', 'gold', 'lightskyblue', \n",
    "          'white', 'darkgreen','blue']\n",
    "\n",
    "df_s2p['SEVERITYCODE'].plot(kind='pie',\n",
    "                            figsize=(5, 6),\n",
    "                            autopct='%1.1f%%', # add in percentages\n",
    "                            startangle=90,     # start angle 90° (Africa)\n",
    "                            shadow=True,       # add shadow      \n",
    "                            colors=colors\n",
    "                            )\n",
    "plt.tight_layout()\n",
    "plt.title('Accident Distribution for Different Road Condition')\n",
    "plt.axis('equal') # Sets the pie chart to look like a circle.\n",
    "plt.legend(labels=df_s2p.index, loc=3)\n",
    "\n",
    "plt.show()"
   ]
  },
  {
   "cell_type": "markdown",
   "metadata": {},
   "source": [
    "As we can see from the above two pie charts, dry road condition takes the majority of the accidents of severity coad 2. And after extract the dry condtion, wet road condtion takes dominant in the rest of the dataset.\n",
    "\n",
    "Let's examine under a cirtain circumstance, what is the distribution of the two severity codes."
   ]
  },
  {
   "cell_type": "code",
   "execution_count": 89,
   "metadata": {},
   "outputs": [],
   "source": [
    "# c3 for different road conditions\n",
    "df_c3 = df_dp2[['SEVERITYCODE','ROADCOND']]\n",
    "df_c3dry = df_c3[df_c3['ROADCOND'] == \"Dry\"]\n",
    "df_c3wet = df_c3[df_c3['ROADCOND'] == \"Wet\"]\n",
    "df_c3ice = df_c3[df_c3['ROADCOND'] == \"Ice\"]\n",
    "df_c3smd = df_c3[df_c3['ROADCOND'] == \"Sand/Mud/Dirt\"]\n",
    "df_c3ss = df_c3[df_c3['ROADCOND'] == \"Snow/Slush\"]\n",
    "df_c3sw = df_c3[df_c3['ROADCOND'] == \"Standing Water\"]"
   ]
  },
  {
   "cell_type": "code",
   "execution_count": 93,
   "metadata": {},
   "outputs": [
    {
     "data": {
      "text/html": [
       "<div>\n",
       "<style scoped>\n",
       "    .dataframe tbody tr th:only-of-type {\n",
       "        vertical-align: middle;\n",
       "    }\n",
       "\n",
       "    .dataframe tbody tr th {\n",
       "        vertical-align: top;\n",
       "    }\n",
       "\n",
       "    .dataframe thead th {\n",
       "        text-align: right;\n",
       "    }\n",
       "</style>\n",
       "<table border=\"1\" class=\"dataframe\">\n",
       "  <thead>\n",
       "    <tr style=\"text-align: right;\">\n",
       "      <th></th>\n",
       "      <th>ROADCOND</th>\n",
       "    </tr>\n",
       "    <tr>\n",
       "      <th>SEVERITYCODE</th>\n",
       "      <th></th>\n",
       "    </tr>\n",
       "  </thead>\n",
       "  <tbody>\n",
       "    <tr>\n",
       "      <th>1</th>\n",
       "      <td>83833</td>\n",
       "    </tr>\n",
       "    <tr>\n",
       "      <th>2</th>\n",
       "      <td>39898</td>\n",
       "    </tr>\n",
       "  </tbody>\n",
       "</table>\n",
       "</div>"
      ],
      "text/plain": [
       "              ROADCOND\n",
       "SEVERITYCODE          \n",
       "1                83833\n",
       "2                39898"
      ]
     },
     "execution_count": 93,
     "metadata": {},
     "output_type": "execute_result"
    }
   ],
   "source": [
    "df_c3dryp = df_c3dry.groupby('SEVERITYCODE', axis=0).count()\n",
    "df_c3dryp.head()"
   ]
  },
  {
   "cell_type": "code",
   "execution_count": 100,
   "metadata": {},
   "outputs": [
    {
     "data": {
      "image/png": "[encoded data removed]",
      "text/plain": [
       "<Figure size 360x432 with 1 Axes>"
      ]
     },
     "metadata": {},
     "output_type": "display_data"
    }
   ],
   "source": [
    "colors = ['red', 'blue']\n",
    "\n",
    "df_c3dryp['ROADCOND'].plot(kind='pie',\n",
    "                            figsize=(5, 6),\n",
    "                            autopct='%1.1f%%', # add in percentages\n",
    "                            startangle=90,     # start angle 90° (Africa)\n",
    "                            shadow=True,       # add shadow      \n",
    "                            colors=colors\n",
    "                            )\n",
    "plt.tight_layout()\n",
    "plt.title('Accident Distribution for Different Severity Code')\n",
    "plt.axis('equal') # Sets the pie chart to look like a circle.\n",
    "plt.legend(labels=df_c3dryp.index, loc=3)\n",
    "\n",
    "plt.show()"
   ]
  },
  {
   "cell_type": "markdown",
   "metadata": {},
   "source": [
    "As we can see from the pie charts, accidents with severity level 2 takes about 1/5 to 1/3 in every kind of raod condition. Level 1 always take the majority of all accidents. Which means, the road condition does not affect the severity of the accidents a lot. The machine learning would fit the model very well.\n",
    "\n",
    "### 3.4.2 'SEVERITYCODE' and 'WEATHER'"
   ]
  },
  {
   "cell_type": "code",
   "execution_count": 105,
   "metadata": {},
   "outputs": [
    {
     "data": {
      "text/html": [
       "<div>\n",
       "<style scoped>\n",
       "    .dataframe tbody tr th:only-of-type {\n",
       "        vertical-align: middle;\n",
       "    }\n",
       "\n",
       "    .dataframe tbody tr th {\n",
       "        vertical-align: top;\n",
       "    }\n",
       "\n",
       "    .dataframe thead th {\n",
       "        text-align: right;\n",
       "    }\n",
       "</style>\n",
       "<table border=\"1\" class=\"dataframe\">\n",
       "  <thead>\n",
       "    <tr style=\"text-align: right;\">\n",
       "      <th></th>\n",
       "      <th>SEVERITYCODE</th>\n",
       "      <th>WEATHER</th>\n",
       "    </tr>\n",
       "  </thead>\n",
       "  <tbody>\n",
       "    <tr>\n",
       "      <th>0</th>\n",
       "      <td>2</td>\n",
       "      <td>Overcast</td>\n",
       "    </tr>\n",
       "    <tr>\n",
       "      <th>1</th>\n",
       "      <td>1</td>\n",
       "      <td>Raining</td>\n",
       "    </tr>\n",
       "    <tr>\n",
       "      <th>2</th>\n",
       "      <td>1</td>\n",
       "      <td>Overcast</td>\n",
       "    </tr>\n",
       "    <tr>\n",
       "      <th>3</th>\n",
       "      <td>1</td>\n",
       "      <td>Clear</td>\n",
       "    </tr>\n",
       "    <tr>\n",
       "      <th>4</th>\n",
       "      <td>2</td>\n",
       "      <td>Raining</td>\n",
       "    </tr>\n",
       "  </tbody>\n",
       "</table>\n",
       "</div>"
      ],
      "text/plain": [
       "   SEVERITYCODE   WEATHER\n",
       "0             2  Overcast\n",
       "1             1   Raining\n",
       "2             1  Overcast\n",
       "3             1     Clear\n",
       "4             2   Raining"
      ]
     },
     "execution_count": 105,
     "metadata": {},
     "output_type": "execute_result"
    }
   ],
   "source": [
    "# Extract the data of severity code and weather\n",
    "df_c4 = df_dp2[['SEVERITYCODE', 'WEATHER']]\n",
    "df_c4.head()"
   ]
  },
  {
   "cell_type": "code",
   "execution_count": 134,
   "metadata": {},
   "outputs": [
    {
     "name": "stderr",
     "output_type": "stream",
     "text": [
      "C:\\ProgramData\\Anaconda3\\lib\\site-packages\\pandas\\core\\frame.py:3997: SettingWithCopyWarning: \n",
      "A value is trying to be set on a copy of a slice from a DataFrame\n",
      "\n",
      "See the caveats in the documentation: https://pandas.pydata.org/pandas-docs/stable/user_guide/indexing.html#returning-a-view-versus-a-copy\n",
      "  errors=errors,\n"
     ]
    },
    {
     "data": {
      "text/html": [
       "<div>\n",
       "<style scoped>\n",
       "    .dataframe tbody tr th:only-of-type {\n",
       "        vertical-align: middle;\n",
       "    }\n",
       "\n",
       "    .dataframe tbody tr th {\n",
       "        vertical-align: top;\n",
       "    }\n",
       "\n",
       "    .dataframe thead th {\n",
       "        text-align: right;\n",
       "    }\n",
       "</style>\n",
       "<table border=\"1\" class=\"dataframe\">\n",
       "  <thead>\n",
       "    <tr style=\"text-align: right;\">\n",
       "      <th></th>\n",
       "      <th>SEVERITYCODE</th>\n",
       "    </tr>\n",
       "    <tr>\n",
       "      <th>WEATHER</th>\n",
       "      <th></th>\n",
       "    </tr>\n",
       "  </thead>\n",
       "  <tbody>\n",
       "    <tr>\n",
       "      <th>Blowing Sand/Dirt</th>\n",
       "      <td>13</td>\n",
       "    </tr>\n",
       "    <tr>\n",
       "      <th>Clear</th>\n",
       "      <td>35718</td>\n",
       "    </tr>\n",
       "    <tr>\n",
       "      <th>Fog/Smog/Smoke</th>\n",
       "      <td>186</td>\n",
       "    </tr>\n",
       "    <tr>\n",
       "      <th>Overcast</th>\n",
       "      <td>8711</td>\n",
       "    </tr>\n",
       "    <tr>\n",
       "      <th>Partly Cloudy</th>\n",
       "      <td>3</td>\n",
       "    </tr>\n",
       "    <tr>\n",
       "      <th>Raining</th>\n",
       "      <td>11134</td>\n",
       "    </tr>\n",
       "    <tr>\n",
       "      <th>Severe Crosswind</th>\n",
       "      <td>7</td>\n",
       "    </tr>\n",
       "    <tr>\n",
       "      <th>Sleet/Hail/Freezing Rain</th>\n",
       "      <td>27</td>\n",
       "    </tr>\n",
       "    <tr>\n",
       "      <th>Snowing</th>\n",
       "      <td>167</td>\n",
       "    </tr>\n",
       "  </tbody>\n",
       "</table>\n",
       "</div>"
      ],
      "text/plain": [
       "                          SEVERITYCODE\n",
       "WEATHER                               \n",
       "Blowing Sand/Dirt                   13\n",
       "Clear                            35718\n",
       "Fog/Smog/Smoke                     186\n",
       "Overcast                          8711\n",
       "Partly Cloudy                        3\n",
       "Raining                          11134\n",
       "Severe Crosswind                     7\n",
       "Sleet/Hail/Freezing Rain            27\n",
       "Snowing                            167"
      ]
     },
     "execution_count": 134,
     "metadata": {},
     "output_type": "execute_result"
    }
   ],
   "source": [
    "df_c4.drop(df_c4[df_c4.WEATHER == \"Other\"].index, inplace = True)\n",
    "df_c4.drop(df_c4[df_c4.WEATHER == \"Unknown\"].index, inplace = True)\n",
    "\n",
    "df_c4t = df_c4.drop(df_c4[df_c4.SEVERITYCODE == 1].index)\n",
    "\n",
    "df_c4tt = df_c4t.groupby('WEATHER', axis=0).count()\n",
    "\n",
    "df_c4tt.head(15)"
   ]
  },
  {
   "cell_type": "code",
   "execution_count": 137,
   "metadata": {},
   "outputs": [
    {
     "data": {
      "text/html": [
       "<div>\n",
       "<style scoped>\n",
       "    .dataframe tbody tr th:only-of-type {\n",
       "        vertical-align: middle;\n",
       "    }\n",
       "\n",
       "    .dataframe tbody tr th {\n",
       "        vertical-align: top;\n",
       "    }\n",
       "\n",
       "    .dataframe thead th {\n",
       "        text-align: right;\n",
       "    }\n",
       "</style>\n",
       "<table border=\"1\" class=\"dataframe\">\n",
       "  <thead>\n",
       "    <tr style=\"text-align: right;\">\n",
       "      <th>WEATHER</th>\n",
       "      <th>index</th>\n",
       "      <th>Blowing Sand/Dirt</th>\n",
       "      <th>Clear</th>\n",
       "      <th>Fog/Smog/Smoke</th>\n",
       "      <th>Overcast</th>\n",
       "      <th>Partly Cloudy</th>\n",
       "      <th>Raining</th>\n",
       "      <th>Severe Crosswind</th>\n",
       "      <th>Sleet/Hail/Freezing Rain</th>\n",
       "      <th>Snowing</th>\n",
       "    </tr>\n",
       "  </thead>\n",
       "  <tbody>\n",
       "    <tr>\n",
       "      <th>0</th>\n",
       "      <td>2</td>\n",
       "      <td>13</td>\n",
       "      <td>35718</td>\n",
       "      <td>186</td>\n",
       "      <td>8711</td>\n",
       "      <td>3</td>\n",
       "      <td>11134</td>\n",
       "      <td>7</td>\n",
       "      <td>27</td>\n",
       "      <td>167</td>\n",
       "    </tr>\n",
       "  </tbody>\n",
       "</table>\n",
       "</div>"
      ],
      "text/plain": [
       "WEATHER index  Blowing Sand/Dirt  Clear  Fog/Smog/Smoke  Overcast  \\\n",
       "0           2                 13  35718             186      8711   \n",
       "\n",
       "WEATHER  Partly Cloudy  Raining  Severe Crosswind  Sleet/Hail/Freezing Rain  \\\n",
       "0                    3    11134                 7                        27   \n",
       "\n",
       "WEATHER  Snowing  \n",
       "0            167  "
      ]
     },
     "execution_count": 137,
     "metadata": {},
     "output_type": "execute_result"
    }
   ],
   "source": [
    "df_c4tt = df_c4tt.transpose()\n",
    "df_c4tt.reset_index(inplace = True)\n",
    "df_c4tt.replace('SEVERITYCODE', '2', inplace = True)\n",
    "df_c4tt.head()"
   ]
  },
  {
   "cell_type": "code",
   "execution_count": 116,
   "metadata": {},
   "outputs": [
    {
     "data": {
      "text/html": [
       "<div>\n",
       "<style scoped>\n",
       "    .dataframe tbody tr th:only-of-type {\n",
       "        vertical-align: middle;\n",
       "    }\n",
       "\n",
       "    .dataframe tbody tr th {\n",
       "        vertical-align: top;\n",
       "    }\n",
       "\n",
       "    .dataframe thead th {\n",
       "        text-align: right;\n",
       "    }\n",
       "</style>\n",
       "<table border=\"1\" class=\"dataframe\">\n",
       "  <thead>\n",
       "    <tr style=\"text-align: right;\">\n",
       "      <th></th>\n",
       "      <th>SEVERITYCODE</th>\n",
       "    </tr>\n",
       "    <tr>\n",
       "      <th>WEATHER</th>\n",
       "      <th></th>\n",
       "    </tr>\n",
       "  </thead>\n",
       "  <tbody>\n",
       "    <tr>\n",
       "      <th>Blowing Sand/Dirt</th>\n",
       "      <td>36</td>\n",
       "    </tr>\n",
       "    <tr>\n",
       "      <th>Clear</th>\n",
       "      <td>74776</td>\n",
       "    </tr>\n",
       "    <tr>\n",
       "      <th>Fog/Smog/Smoke</th>\n",
       "      <td>377</td>\n",
       "    </tr>\n",
       "    <tr>\n",
       "      <th>Overcast</th>\n",
       "      <td>18834</td>\n",
       "    </tr>\n",
       "    <tr>\n",
       "      <th>Partly Cloudy</th>\n",
       "      <td>2</td>\n",
       "    </tr>\n",
       "    <tr>\n",
       "      <th>Raining</th>\n",
       "      <td>21835</td>\n",
       "    </tr>\n",
       "    <tr>\n",
       "      <th>Severe Crosswind</th>\n",
       "      <td>18</td>\n",
       "    </tr>\n",
       "    <tr>\n",
       "      <th>Sleet/Hail/Freezing Rain</th>\n",
       "      <td>85</td>\n",
       "    </tr>\n",
       "    <tr>\n",
       "      <th>Snowing</th>\n",
       "      <td>729</td>\n",
       "    </tr>\n",
       "  </tbody>\n",
       "</table>\n",
       "</div>"
      ],
      "text/plain": [
       "                          SEVERITYCODE\n",
       "WEATHER                               \n",
       "Blowing Sand/Dirt                   36\n",
       "Clear                            74776\n",
       "Fog/Smog/Smoke                     377\n",
       "Overcast                         18834\n",
       "Partly Cloudy                        2\n",
       "Raining                          21835\n",
       "Severe Crosswind                    18\n",
       "Sleet/Hail/Freezing Rain            85\n",
       "Snowing                            729"
      ]
     },
     "execution_count": 116,
     "metadata": {},
     "output_type": "execute_result"
    }
   ],
   "source": [
    "df_c4t_ = df_c4.drop(df_c4[df_c4.SEVERITYCODE == 2].index)\n",
    "\n",
    "df_c4tt_ = df_c4t_.groupby('WEATHER', axis=0).count()\n",
    "\n",
    "df_c4tt_.head(15)"
   ]
  },
  {
   "cell_type": "code",
   "execution_count": 147,
   "metadata": {},
   "outputs": [
    {
     "data": {
      "text/html": [
       "<div>\n",
       "<style scoped>\n",
       "    .dataframe tbody tr th:only-of-type {\n",
       "        vertical-align: middle;\n",
       "    }\n",
       "\n",
       "    .dataframe tbody tr th {\n",
       "        vertical-align: top;\n",
       "    }\n",
       "\n",
       "    .dataframe thead th {\n",
       "        text-align: right;\n",
       "    }\n",
       "</style>\n",
       "<table border=\"1\" class=\"dataframe\">\n",
       "  <thead>\n",
       "    <tr style=\"text-align: right;\">\n",
       "      <th>SEVERITYCODE</th>\n",
       "      <th>2</th>\n",
       "      <th>1</th>\n",
       "    </tr>\n",
       "    <tr>\n",
       "      <th>WEATHER</th>\n",
       "      <th></th>\n",
       "      <th></th>\n",
       "    </tr>\n",
       "  </thead>\n",
       "  <tbody>\n",
       "    <tr>\n",
       "      <th>Blowing Sand/Dirt</th>\n",
       "      <td>13</td>\n",
       "      <td>36</td>\n",
       "    </tr>\n",
       "    <tr>\n",
       "      <th>Clear</th>\n",
       "      <td>35718</td>\n",
       "      <td>74776</td>\n",
       "    </tr>\n",
       "    <tr>\n",
       "      <th>Fog/Smog/Smoke</th>\n",
       "      <td>186</td>\n",
       "      <td>377</td>\n",
       "    </tr>\n",
       "    <tr>\n",
       "      <th>Overcast</th>\n",
       "      <td>8711</td>\n",
       "      <td>18834</td>\n",
       "    </tr>\n",
       "    <tr>\n",
       "      <th>Partly Cloudy</th>\n",
       "      <td>3</td>\n",
       "      <td>2</td>\n",
       "    </tr>\n",
       "  </tbody>\n",
       "</table>\n",
       "</div>"
      ],
      "text/plain": [
       "SEVERITYCODE           2      1\n",
       "WEATHER                        \n",
       "Blowing Sand/Dirt     13     36\n",
       "Clear              35718  74776\n",
       "Fog/Smog/Smoke       186    377\n",
       "Overcast            8711  18834\n",
       "Partly Cloudy          3      2"
      ]
     },
     "execution_count": 147,
     "metadata": {},
     "output_type": "execute_result"
    }
   ],
   "source": [
    "df_c4tt_ = df_c4tt_.transpose()\n",
    "df_c4tt_.reset_index(inplace = True)\n",
    "df_c4tt_.replace('SEVERITYCODE', '1', inplace = True)\n",
    "df_c4f = pd.concat([df_c4tt,df_c4tt_],axis=0)\n",
    "df_c4f.rename(columns={'index':'SEVERITYCODE'}, inplace=True)\n",
    "df_c4f.set_index([\"SEVERITYCODE\"], inplace=True)\n",
    "df_c4f = df_c4f.transpose()\n",
    "df_c4f.head()"
   ]
  },
  {
   "cell_type": "code",
   "execution_count": 150,
   "metadata": {},
   "outputs": [
    {
     "data": {
      "text/html": [
       "<div>\n",
       "<style scoped>\n",
       "    .dataframe tbody tr th:only-of-type {\n",
       "        vertical-align: middle;\n",
       "    }\n",
       "\n",
       "    .dataframe tbody tr th {\n",
       "        vertical-align: top;\n",
       "    }\n",
       "\n",
       "    .dataframe thead th {\n",
       "        text-align: right;\n",
       "    }\n",
       "</style>\n",
       "<table border=\"1\" class=\"dataframe\">\n",
       "  <thead>\n",
       "    <tr style=\"text-align: right;\">\n",
       "      <th>SEVERITYCODE</th>\n",
       "      <th>2</th>\n",
       "      <th>1</th>\n",
       "      <th>Total</th>\n",
       "      <th>1 Percentage</th>\n",
       "      <th>2 Percentage</th>\n",
       "    </tr>\n",
       "    <tr>\n",
       "      <th>WEATHER</th>\n",
       "      <th></th>\n",
       "      <th></th>\n",
       "      <th></th>\n",
       "      <th></th>\n",
       "      <th></th>\n",
       "    </tr>\n",
       "  </thead>\n",
       "  <tbody>\n",
       "    <tr>\n",
       "      <th>Blowing Sand/Dirt</th>\n",
       "      <td>13</td>\n",
       "      <td>36</td>\n",
       "      <td>49</td>\n",
       "      <td>0.734694</td>\n",
       "      <td>0.265306</td>\n",
       "    </tr>\n",
       "    <tr>\n",
       "      <th>Clear</th>\n",
       "      <td>35718</td>\n",
       "      <td>74776</td>\n",
       "      <td>110494</td>\n",
       "      <td>0.676743</td>\n",
       "      <td>0.323257</td>\n",
       "    </tr>\n",
       "    <tr>\n",
       "      <th>Fog/Smog/Smoke</th>\n",
       "      <td>186</td>\n",
       "      <td>377</td>\n",
       "      <td>563</td>\n",
       "      <td>0.669627</td>\n",
       "      <td>0.330373</td>\n",
       "    </tr>\n",
       "    <tr>\n",
       "      <th>Overcast</th>\n",
       "      <td>8711</td>\n",
       "      <td>18834</td>\n",
       "      <td>27545</td>\n",
       "      <td>0.683754</td>\n",
       "      <td>0.316246</td>\n",
       "    </tr>\n",
       "    <tr>\n",
       "      <th>Partly Cloudy</th>\n",
       "      <td>3</td>\n",
       "      <td>2</td>\n",
       "      <td>5</td>\n",
       "      <td>0.400000</td>\n",
       "      <td>0.600000</td>\n",
       "    </tr>\n",
       "    <tr>\n",
       "      <th>Raining</th>\n",
       "      <td>11134</td>\n",
       "      <td>21835</td>\n",
       "      <td>32969</td>\n",
       "      <td>0.662289</td>\n",
       "      <td>0.337711</td>\n",
       "    </tr>\n",
       "    <tr>\n",
       "      <th>Severe Crosswind</th>\n",
       "      <td>7</td>\n",
       "      <td>18</td>\n",
       "      <td>25</td>\n",
       "      <td>0.720000</td>\n",
       "      <td>0.280000</td>\n",
       "    </tr>\n",
       "    <tr>\n",
       "      <th>Sleet/Hail/Freezing Rain</th>\n",
       "      <td>27</td>\n",
       "      <td>85</td>\n",
       "      <td>112</td>\n",
       "      <td>0.758929</td>\n",
       "      <td>0.241071</td>\n",
       "    </tr>\n",
       "    <tr>\n",
       "      <th>Snowing</th>\n",
       "      <td>167</td>\n",
       "      <td>729</td>\n",
       "      <td>896</td>\n",
       "      <td>0.813616</td>\n",
       "      <td>0.186384</td>\n",
       "    </tr>\n",
       "  </tbody>\n",
       "</table>\n",
       "</div>"
      ],
      "text/plain": [
       "SEVERITYCODE                  2      1   Total  1 Percentage  2 Percentage\n",
       "WEATHER                                                                   \n",
       "Blowing Sand/Dirt            13     36      49      0.734694      0.265306\n",
       "Clear                     35718  74776  110494      0.676743      0.323257\n",
       "Fog/Smog/Smoke              186    377     563      0.669627      0.330373\n",
       "Overcast                   8711  18834   27545      0.683754      0.316246\n",
       "Partly Cloudy                 3      2       5      0.400000      0.600000\n",
       "Raining                   11134  21835   32969      0.662289      0.337711\n",
       "Severe Crosswind              7     18      25      0.720000      0.280000\n",
       "Sleet/Hail/Freezing Rain     27     85     112      0.758929      0.241071\n",
       "Snowing                     167    729     896      0.813616      0.186384"
      ]
     },
     "execution_count": 150,
     "metadata": {},
     "output_type": "execute_result"
    }
   ],
   "source": [
    "df_c4f['Total'] = df_c4f.sum(axis=1)\n",
    "df_c4f['1 Percentage'] = df_c4f['1']/df_c4f['Total']\n",
    "df_c4f['2 Percentage'] = df_c4f['2']/df_c4f['Total']\n",
    "df_c4f.head(11)"
   ]
  },
  {
   "cell_type": "markdown",
   "metadata": {},
   "source": [
    "From the chart, we can know that dispite of the accidents happened during the clear days, most accidents were happened under raining and overcast, and the distribution of two severity codes are about the same in all varialbes. Which means it does not affect the dataset a lot, the machine learning tool could be able to predict the result accurately."
   ]
  },
  {
   "cell_type": "markdown",
   "metadata": {},
   "source": [
    "### 3.4.3  'SEVERITYCODE' and 'LIGHTCOND'"
   ]
  },
  {
   "cell_type": "code",
   "execution_count": 153,
   "metadata": {},
   "outputs": [
    {
     "data": {
      "text/html": [
       "<div>\n",
       "<style scoped>\n",
       "    .dataframe tbody tr th:only-of-type {\n",
       "        vertical-align: middle;\n",
       "    }\n",
       "\n",
       "    .dataframe tbody tr th {\n",
       "        vertical-align: top;\n",
       "    }\n",
       "\n",
       "    .dataframe thead th {\n",
       "        text-align: right;\n",
       "    }\n",
       "</style>\n",
       "<table border=\"1\" class=\"dataframe\">\n",
       "  <thead>\n",
       "    <tr style=\"text-align: right;\">\n",
       "      <th></th>\n",
       "      <th>SEVERITYCODE</th>\n",
       "      <th>LIGHTCOND</th>\n",
       "    </tr>\n",
       "  </thead>\n",
       "  <tbody>\n",
       "    <tr>\n",
       "      <th>0</th>\n",
       "      <td>2</td>\n",
       "      <td>Daylight</td>\n",
       "    </tr>\n",
       "    <tr>\n",
       "      <th>1</th>\n",
       "      <td>1</td>\n",
       "      <td>Dark - Street Lights On</td>\n",
       "    </tr>\n",
       "    <tr>\n",
       "      <th>2</th>\n",
       "      <td>1</td>\n",
       "      <td>Daylight</td>\n",
       "    </tr>\n",
       "    <tr>\n",
       "      <th>3</th>\n",
       "      <td>1</td>\n",
       "      <td>Daylight</td>\n",
       "    </tr>\n",
       "    <tr>\n",
       "      <th>4</th>\n",
       "      <td>2</td>\n",
       "      <td>Daylight</td>\n",
       "    </tr>\n",
       "  </tbody>\n",
       "</table>\n",
       "</div>"
      ],
      "text/plain": [
       "   SEVERITYCODE                LIGHTCOND\n",
       "0             2                 Daylight\n",
       "1             1  Dark - Street Lights On\n",
       "2             1                 Daylight\n",
       "3             1                 Daylight\n",
       "4             2                 Daylight"
      ]
     },
     "execution_count": 153,
     "metadata": {},
     "output_type": "execute_result"
    }
   ],
   "source": [
    "df_c5 = df_dp2[['SEVERITYCODE', 'LIGHTCOND']]\n",
    "df_c5.head()"
   ]
  },
  {
   "cell_type": "code",
   "execution_count": 159,
   "metadata": {},
   "outputs": [],
   "source": [
    "# drop other & unknown\n",
    "df_c5.drop(df_c5[df_c5.LIGHTCOND == \"Other\"].index, inplace = True)\n",
    "df_c5.drop(df_c5[df_c5.LIGHTCOND == \"Unknown\"].index, inplace = True)\n",
    "\n",
    "# extract SC == 1\n",
    "df_c5t = df_c5.drop(df_c5[df_c5.SEVERITYCODE == 2].index)\n",
    "df_c5tt = df_c5t.groupby('LIGHTCOND', axis=0).count()\n",
    "df_c5tt = df_c5tt.transpose()\n",
    "df_c5tt.reset_index(inplace = True)\n",
    "df_c5tt.replace('SEVERITYCODE', '1', inplace = True)\n",
    "\n",
    "# extract SC == 2\n",
    "df_c5t_ = df_c5.drop(df_c5[df_c5.SEVERITYCODE == 1].index)\n",
    "df_c5tt_ = df_c5t_.groupby('LIGHTCOND', axis=0).count()\n",
    "df_c5tt_ = df_c5tt_.transpose()\n",
    "df_c5tt_.reset_index(inplace = True)\n",
    "df_c5tt_.replace('SEVERITYCODE', '2', inplace = True)\n"
   ]
  },
  {
   "cell_type": "code",
   "execution_count": 163,
   "metadata": {},
   "outputs": [
    {
     "data": {
      "text/html": [
       "<div>\n",
       "<style scoped>\n",
       "    .dataframe tbody tr th:only-of-type {\n",
       "        vertical-align: middle;\n",
       "    }\n",
       "\n",
       "    .dataframe tbody tr th {\n",
       "        vertical-align: top;\n",
       "    }\n",
       "\n",
       "    .dataframe thead th {\n",
       "        text-align: right;\n",
       "    }\n",
       "</style>\n",
       "<table border=\"1\" class=\"dataframe\">\n",
       "  <thead>\n",
       "    <tr style=\"text-align: right;\">\n",
       "      <th>SEVERITYCODE</th>\n",
       "      <th>1</th>\n",
       "      <th>2</th>\n",
       "      <th>Total</th>\n",
       "      <th>1 Percentage</th>\n",
       "      <th>2 Percentage</th>\n",
       "    </tr>\n",
       "    <tr>\n",
       "      <th>LIGHTCOND</th>\n",
       "      <th></th>\n",
       "      <th></th>\n",
       "      <th></th>\n",
       "      <th></th>\n",
       "      <th></th>\n",
       "    </tr>\n",
       "  </thead>\n",
       "  <tbody>\n",
       "    <tr>\n",
       "      <th>Dark - No Street Lights</th>\n",
       "      <td>1191</td>\n",
       "      <td>334</td>\n",
       "      <td>1525</td>\n",
       "      <td>0.780984</td>\n",
       "      <td>0.219016</td>\n",
       "    </tr>\n",
       "    <tr>\n",
       "      <th>Dark - Street Lights Off</th>\n",
       "      <td>869</td>\n",
       "      <td>315</td>\n",
       "      <td>1184</td>\n",
       "      <td>0.733953</td>\n",
       "      <td>0.266047</td>\n",
       "    </tr>\n",
       "    <tr>\n",
       "      <th>Dark - Street Lights On</th>\n",
       "      <td>33816</td>\n",
       "      <td>14417</td>\n",
       "      <td>48233</td>\n",
       "      <td>0.701097</td>\n",
       "      <td>0.298903</td>\n",
       "    </tr>\n",
       "    <tr>\n",
       "      <th>Dark - Unknown Lighting</th>\n",
       "      <td>7</td>\n",
       "      <td>4</td>\n",
       "      <td>11</td>\n",
       "      <td>0.636364</td>\n",
       "      <td>0.363636</td>\n",
       "    </tr>\n",
       "    <tr>\n",
       "      <th>Dawn</th>\n",
       "      <td>1667</td>\n",
       "      <td>823</td>\n",
       "      <td>2490</td>\n",
       "      <td>0.669478</td>\n",
       "      <td>0.330522</td>\n",
       "    </tr>\n",
       "    <tr>\n",
       "      <th>Daylight</th>\n",
       "      <td>76996</td>\n",
       "      <td>38400</td>\n",
       "      <td>115396</td>\n",
       "      <td>0.667233</td>\n",
       "      <td>0.332767</td>\n",
       "    </tr>\n",
       "    <tr>\n",
       "      <th>Dusk</th>\n",
       "      <td>3906</td>\n",
       "      <td>1936</td>\n",
       "      <td>5842</td>\n",
       "      <td>0.668607</td>\n",
       "      <td>0.331393</td>\n",
       "    </tr>\n",
       "  </tbody>\n",
       "</table>\n",
       "</div>"
      ],
      "text/plain": [
       "SEVERITYCODE                  1      2   Total  1 Percentage  2 Percentage\n",
       "LIGHTCOND                                                                 \n",
       "Dark - No Street Lights    1191    334    1525      0.780984      0.219016\n",
       "Dark - Street Lights Off    869    315    1184      0.733953      0.266047\n",
       "Dark - Street Lights On   33816  14417   48233      0.701097      0.298903\n",
       "Dark - Unknown Lighting       7      4      11      0.636364      0.363636\n",
       "Dawn                       1667    823    2490      0.669478      0.330522\n",
       "Daylight                  76996  38400  115396      0.667233      0.332767\n",
       "Dusk                       3906   1936    5842      0.668607      0.331393"
      ]
     },
     "execution_count": 163,
     "metadata": {},
     "output_type": "execute_result"
    }
   ],
   "source": [
    "# merge two dataframes\n",
    "df_c5f = pd.concat([df_c5tt,df_c5tt_],axis=0)\n",
    "df_c5f.rename(columns={'index':'SEVERITYCODE'}, inplace=True)\n",
    "df_c5f.set_index([\"SEVERITYCODE\"], inplace=True)\n",
    "df_c5f = df_c5f.transpose()\n",
    "df_c5f['Total'] = df_c5f.sum(axis=1)\n",
    "df_c5f['1 Percentage'] = df_c5f['1']/df_c5f['Total']\n",
    "df_c5f['2 Percentage'] = df_c5f['2']/df_c5f['Total']\n",
    "df_c5f.head(15)"
   ]
  },
  {
   "cell_type": "markdown",
   "metadata": {},
   "source": [
    "From the chart we can get that there are more severity level 1 accident when there is no street light during night time compared with other cases. There are too few cases under the category of unknown lighting, we shall pass on that. The rest sets are distributed evenly on severity level 1 take about 70 percent of all accidents.\n",
    "\n",
    "One odd scene is that there are more accidents happened when there are street lights on compared with there is no steet light."
   ]
  },
  {
   "cell_type": "code",
   "execution_count": null,
   "metadata": {},
   "outputs": [],
   "source": []
  }
 ],
 "metadata": {
  "kernelspec": {
   "display_name": "Python 3",
   "language": "python",
   "name": "python3"
  },
  "language_info": {
   "codemirror_mode": {
    "name": "ipython",
    "version": 3
   },
   "file_extension": ".py",
   "mimetype": "text/x-python",
   "name": "python",
   "nbconvert_exporter": "python",
   "pygments_lexer": "ipython3",
   "version": "3.7.6"
  }
 },
 "nbformat": 4,
 "nbformat_minor": 4
}
